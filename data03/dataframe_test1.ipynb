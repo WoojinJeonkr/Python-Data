{
 "cells": [
  {
   "cell_type": "code",
   "execution_count": 1,
   "metadata": {},
   "outputs": [],
   "source": [
    "import pandas as pd\n",
    "import numpy as np"
   ]
  },
  {
   "cell_type": "code",
   "execution_count": 2,
   "metadata": {},
   "outputs": [
    {
     "data": {
      "text/plain": [
       "DatetimeIndex(['2020-06-25', '2020-06-26', '2020-06-27', '2020-06-28',\n",
       "               '2020-06-29', '2020-06-30'],\n",
       "              dtype='datetime64[ns]', freq='D')"
      ]
     },
     "execution_count": 2,
     "metadata": {},
     "output_type": "execute_result"
    }
   ],
   "source": [
    "dates = pd.date_range('20200625', periods=6)\n",
    "dates"
   ]
  },
  {
   "cell_type": "code",
   "execution_count": 3,
   "metadata": {},
   "outputs": [
    {
     "data": {
      "text/html": [
       "<div>\n",
       "<style scoped>\n",
       "    .dataframe tbody tr th:only-of-type {\n",
       "        vertical-align: middle;\n",
       "    }\n",
       "\n",
       "    .dataframe tbody tr th {\n",
       "        vertical-align: top;\n",
       "    }\n",
       "\n",
       "    .dataframe thead th {\n",
       "        text-align: right;\n",
       "    }\n",
       "</style>\n",
       "<table border=\"1\" class=\"dataframe\">\n",
       "  <thead>\n",
       "    <tr style=\"text-align: right;\">\n",
       "      <th></th>\n",
       "      <th>A</th>\n",
       "      <th>B</th>\n",
       "      <th>C</th>\n",
       "      <th>D</th>\n",
       "    </tr>\n",
       "  </thead>\n",
       "  <tbody>\n",
       "    <tr>\n",
       "      <th>2020-06-25</th>\n",
       "      <td>0.599921</td>\n",
       "      <td>-0.024623</td>\n",
       "      <td>0.745362</td>\n",
       "      <td>0.797986</td>\n",
       "    </tr>\n",
       "    <tr>\n",
       "      <th>2020-06-26</th>\n",
       "      <td>-0.843993</td>\n",
       "      <td>-1.394009</td>\n",
       "      <td>1.216228</td>\n",
       "      <td>-0.899932</td>\n",
       "    </tr>\n",
       "    <tr>\n",
       "      <th>2020-06-27</th>\n",
       "      <td>-0.306923</td>\n",
       "      <td>-0.779037</td>\n",
       "      <td>0.891013</td>\n",
       "      <td>0.457907</td>\n",
       "    </tr>\n",
       "    <tr>\n",
       "      <th>2020-06-28</th>\n",
       "      <td>0.345191</td>\n",
       "      <td>-0.306771</td>\n",
       "      <td>0.017366</td>\n",
       "      <td>0.883648</td>\n",
       "    </tr>\n",
       "    <tr>\n",
       "      <th>2020-06-29</th>\n",
       "      <td>-0.527190</td>\n",
       "      <td>0.339434</td>\n",
       "      <td>-2.388556</td>\n",
       "      <td>0.399834</td>\n",
       "    </tr>\n",
       "    <tr>\n",
       "      <th>2020-06-30</th>\n",
       "      <td>-0.417893</td>\n",
       "      <td>0.305258</td>\n",
       "      <td>-1.272104</td>\n",
       "      <td>0.046227</td>\n",
       "    </tr>\n",
       "  </tbody>\n",
       "</table>\n",
       "</div>"
      ],
      "text/plain": [
       "                   A         B         C         D\n",
       "2020-06-25  0.599921 -0.024623  0.745362  0.797986\n",
       "2020-06-26 -0.843993 -1.394009  1.216228 -0.899932\n",
       "2020-06-27 -0.306923 -0.779037  0.891013  0.457907\n",
       "2020-06-28  0.345191 -0.306771  0.017366  0.883648\n",
       "2020-06-29 -0.527190  0.339434 -2.388556  0.399834\n",
       "2020-06-30 -0.417893  0.305258 -1.272104  0.046227"
      ]
     },
     "execution_count": 3,
     "metadata": {},
     "output_type": "execute_result"
    }
   ],
   "source": [
    "df = pd.DataFrame(np.random.randn(6, 4), index=dates, columns=['A','B','C','D'])\n",
    "df"
   ]
  },
  {
   "cell_type": "code",
   "execution_count": 4,
   "metadata": {},
   "outputs": [
    {
     "data": {
      "text/html": [
       "<div>\n",
       "<style scoped>\n",
       "    .dataframe tbody tr th:only-of-type {\n",
       "        vertical-align: middle;\n",
       "    }\n",
       "\n",
       "    .dataframe tbody tr th {\n",
       "        vertical-align: top;\n",
       "    }\n",
       "\n",
       "    .dataframe thead th {\n",
       "        text-align: right;\n",
       "    }\n",
       "</style>\n",
       "<table border=\"1\" class=\"dataframe\">\n",
       "  <thead>\n",
       "    <tr style=\"text-align: right;\">\n",
       "      <th></th>\n",
       "      <th>A</th>\n",
       "      <th>B</th>\n",
       "      <th>C</th>\n",
       "      <th>D</th>\n",
       "    </tr>\n",
       "  </thead>\n",
       "  <tbody>\n",
       "    <tr>\n",
       "      <th>2020-06-25</th>\n",
       "      <td>0.599921</td>\n",
       "      <td>-0.024623</td>\n",
       "      <td>0.745362</td>\n",
       "      <td>0.797986</td>\n",
       "    </tr>\n",
       "    <tr>\n",
       "      <th>2020-06-26</th>\n",
       "      <td>-0.843993</td>\n",
       "      <td>-1.394009</td>\n",
       "      <td>1.216228</td>\n",
       "      <td>-0.899932</td>\n",
       "    </tr>\n",
       "    <tr>\n",
       "      <th>2020-06-27</th>\n",
       "      <td>-0.306923</td>\n",
       "      <td>-0.779037</td>\n",
       "      <td>0.891013</td>\n",
       "      <td>0.457907</td>\n",
       "    </tr>\n",
       "    <tr>\n",
       "      <th>2020-06-28</th>\n",
       "      <td>0.345191</td>\n",
       "      <td>-0.306771</td>\n",
       "      <td>0.017366</td>\n",
       "      <td>0.883648</td>\n",
       "    </tr>\n",
       "    <tr>\n",
       "      <th>2020-06-29</th>\n",
       "      <td>-0.527190</td>\n",
       "      <td>0.339434</td>\n",
       "      <td>-2.388556</td>\n",
       "      <td>0.399834</td>\n",
       "    </tr>\n",
       "    <tr>\n",
       "      <th>2020-06-30</th>\n",
       "      <td>-0.417893</td>\n",
       "      <td>0.305258</td>\n",
       "      <td>-1.272104</td>\n",
       "      <td>0.046227</td>\n",
       "    </tr>\n",
       "  </tbody>\n",
       "</table>\n",
       "</div>"
      ],
      "text/plain": [
       "                   A         B         C         D\n",
       "2020-06-25  0.599921 -0.024623  0.745362  0.797986\n",
       "2020-06-26 -0.843993 -1.394009  1.216228 -0.899932\n",
       "2020-06-27 -0.306923 -0.779037  0.891013  0.457907\n",
       "2020-06-28  0.345191 -0.306771  0.017366  0.883648\n",
       "2020-06-29 -0.527190  0.339434 -2.388556  0.399834\n",
       "2020-06-30 -0.417893  0.305258 -1.272104  0.046227"
      ]
     },
     "execution_count": 4,
     "metadata": {},
     "output_type": "execute_result"
    }
   ],
   "source": [
    "df2 = df.copy()\n",
    "df2\n",
    "# df는 기본적으로 행, 열의 위치값을 가지고 있음\n",
    "# '기본적으로 가지고 있는 위치값(index)'를 이용하여 조작하는 경우 iloc[]를 사용!\n",
    "# 일부 그래프나 분석 시 특정항목을 index항목으로 수동으로 설정해야하는 경우가 있음\n",
    "# 특정 항목을 index항목으로 설정가능한 경우는 unique/not null인 값을 가지는 항목만 설정 가능!\n",
    "# user_id, bbs_id pk조건과 일치!"
   ]
  },
  {
   "cell_type": "code",
   "execution_count": 5,
   "metadata": {},
   "outputs": [
    {
     "data": {
      "text/html": [
       "<div>\n",
       "<style scoped>\n",
       "    .dataframe tbody tr th:only-of-type {\n",
       "        vertical-align: middle;\n",
       "    }\n",
       "\n",
       "    .dataframe tbody tr th {\n",
       "        vertical-align: top;\n",
       "    }\n",
       "\n",
       "    .dataframe thead th {\n",
       "        text-align: right;\n",
       "    }\n",
       "</style>\n",
       "<table border=\"1\" class=\"dataframe\">\n",
       "  <thead>\n",
       "    <tr style=\"text-align: right;\">\n",
       "      <th></th>\n",
       "      <th>index</th>\n",
       "      <th>A</th>\n",
       "      <th>B</th>\n",
       "      <th>C</th>\n",
       "      <th>D</th>\n",
       "    </tr>\n",
       "  </thead>\n",
       "  <tbody>\n",
       "    <tr>\n",
       "      <th>0</th>\n",
       "      <td>2020-06-25</td>\n",
       "      <td>0.599921</td>\n",
       "      <td>-0.024623</td>\n",
       "      <td>0.745362</td>\n",
       "      <td>0.797986</td>\n",
       "    </tr>\n",
       "    <tr>\n",
       "      <th>1</th>\n",
       "      <td>2020-06-26</td>\n",
       "      <td>-0.843993</td>\n",
       "      <td>-1.394009</td>\n",
       "      <td>1.216228</td>\n",
       "      <td>-0.899932</td>\n",
       "    </tr>\n",
       "    <tr>\n",
       "      <th>2</th>\n",
       "      <td>2020-06-27</td>\n",
       "      <td>-0.306923</td>\n",
       "      <td>-0.779037</td>\n",
       "      <td>0.891013</td>\n",
       "      <td>0.457907</td>\n",
       "    </tr>\n",
       "    <tr>\n",
       "      <th>3</th>\n",
       "      <td>2020-06-28</td>\n",
       "      <td>0.345191</td>\n",
       "      <td>-0.306771</td>\n",
       "      <td>0.017366</td>\n",
       "      <td>0.883648</td>\n",
       "    </tr>\n",
       "    <tr>\n",
       "      <th>4</th>\n",
       "      <td>2020-06-29</td>\n",
       "      <td>-0.527190</td>\n",
       "      <td>0.339434</td>\n",
       "      <td>-2.388556</td>\n",
       "      <td>0.399834</td>\n",
       "    </tr>\n",
       "    <tr>\n",
       "      <th>5</th>\n",
       "      <td>2020-06-30</td>\n",
       "      <td>-0.417893</td>\n",
       "      <td>0.305258</td>\n",
       "      <td>-1.272104</td>\n",
       "      <td>0.046227</td>\n",
       "    </tr>\n",
       "  </tbody>\n",
       "</table>\n",
       "</div>"
      ],
      "text/plain": [
       "       index         A         B         C         D\n",
       "0 2020-06-25  0.599921 -0.024623  0.745362  0.797986\n",
       "1 2020-06-26 -0.843993 -1.394009  1.216228 -0.899932\n",
       "2 2020-06-27 -0.306923 -0.779037  0.891013  0.457907\n",
       "3 2020-06-28  0.345191 -0.306771  0.017366  0.883648\n",
       "4 2020-06-29 -0.527190  0.339434 -2.388556  0.399834\n",
       "5 2020-06-30 -0.417893  0.305258 -1.272104  0.046227"
      ]
     },
     "execution_count": 5,
     "metadata": {},
     "output_type": "execute_result"
    }
   ],
   "source": [
    "df2.reset_index(inplace=True)\n",
    "df2"
   ]
  },
  {
   "cell_type": "code",
   "execution_count": 6,
   "metadata": {},
   "outputs": [
    {
     "data": {
      "text/html": [
       "<div>\n",
       "<style scoped>\n",
       "    .dataframe tbody tr th:only-of-type {\n",
       "        vertical-align: middle;\n",
       "    }\n",
       "\n",
       "    .dataframe tbody tr th {\n",
       "        vertical-align: top;\n",
       "    }\n",
       "\n",
       "    .dataframe thead th {\n",
       "        text-align: right;\n",
       "    }\n",
       "</style>\n",
       "<table border=\"1\" class=\"dataframe\">\n",
       "  <thead>\n",
       "    <tr style=\"text-align: right;\">\n",
       "      <th></th>\n",
       "      <th>A</th>\n",
       "      <th>B</th>\n",
       "      <th>C</th>\n",
       "      <th>D</th>\n",
       "    </tr>\n",
       "    <tr>\n",
       "      <th>index</th>\n",
       "      <th></th>\n",
       "      <th></th>\n",
       "      <th></th>\n",
       "      <th></th>\n",
       "    </tr>\n",
       "  </thead>\n",
       "  <tbody>\n",
       "    <tr>\n",
       "      <th>2020-06-25</th>\n",
       "      <td>0.599921</td>\n",
       "      <td>-0.024623</td>\n",
       "      <td>0.745362</td>\n",
       "      <td>0.797986</td>\n",
       "    </tr>\n",
       "    <tr>\n",
       "      <th>2020-06-26</th>\n",
       "      <td>-0.843993</td>\n",
       "      <td>-1.394009</td>\n",
       "      <td>1.216228</td>\n",
       "      <td>-0.899932</td>\n",
       "    </tr>\n",
       "    <tr>\n",
       "      <th>2020-06-27</th>\n",
       "      <td>-0.306923</td>\n",
       "      <td>-0.779037</td>\n",
       "      <td>0.891013</td>\n",
       "      <td>0.457907</td>\n",
       "    </tr>\n",
       "    <tr>\n",
       "      <th>2020-06-28</th>\n",
       "      <td>0.345191</td>\n",
       "      <td>-0.306771</td>\n",
       "      <td>0.017366</td>\n",
       "      <td>0.883648</td>\n",
       "    </tr>\n",
       "    <tr>\n",
       "      <th>2020-06-29</th>\n",
       "      <td>-0.527190</td>\n",
       "      <td>0.339434</td>\n",
       "      <td>-2.388556</td>\n",
       "      <td>0.399834</td>\n",
       "    </tr>\n",
       "    <tr>\n",
       "      <th>2020-06-30</th>\n",
       "      <td>-0.417893</td>\n",
       "      <td>0.305258</td>\n",
       "      <td>-1.272104</td>\n",
       "      <td>0.046227</td>\n",
       "    </tr>\n",
       "  </tbody>\n",
       "</table>\n",
       "</div>"
      ],
      "text/plain": [
       "                   A         B         C         D\n",
       "index                                             \n",
       "2020-06-25  0.599921 -0.024623  0.745362  0.797986\n",
       "2020-06-26 -0.843993 -1.394009  1.216228 -0.899932\n",
       "2020-06-27 -0.306923 -0.779037  0.891013  0.457907\n",
       "2020-06-28  0.345191 -0.306771  0.017366  0.883648\n",
       "2020-06-29 -0.527190  0.339434 -2.388556  0.399834\n",
       "2020-06-30 -0.417893  0.305258 -1.272104  0.046227"
      ]
     },
     "execution_count": 6,
     "metadata": {},
     "output_type": "execute_result"
    }
   ],
   "source": [
    "df2.set_index('index', inplace=True)\n",
    "df2"
   ]
  },
  {
   "cell_type": "code",
   "execution_count": 7,
   "metadata": {},
   "outputs": [],
   "source": [
    "df2['E'] = df2['A'] + 1 # 브로드캐스팅"
   ]
  },
  {
   "cell_type": "code",
   "execution_count": 8,
   "metadata": {},
   "outputs": [
    {
     "data": {
      "text/plain": [
       "Index(['A', 'B', 'C', 'D', 'E'], dtype='object')"
      ]
     },
     "execution_count": 8,
     "metadata": {},
     "output_type": "execute_result"
    }
   ],
   "source": [
    "df2.columns"
   ]
  },
  {
   "cell_type": "code",
   "execution_count": 9,
   "metadata": {},
   "outputs": [
    {
     "data": {
      "text/plain": [
       "index\n",
       "2020-06-25    1.599921\n",
       "2020-06-26    0.156007\n",
       "2020-06-27    0.693077\n",
       "2020-06-28    1.345191\n",
       "2020-06-29    0.472810\n",
       "2020-06-30    0.582107\n",
       "Name: E, dtype: float64"
      ]
     },
     "execution_count": 9,
     "metadata": {},
     "output_type": "execute_result"
    }
   ],
   "source": [
    "df2['E']"
   ]
  },
  {
   "cell_type": "code",
   "execution_count": 10,
   "metadata": {},
   "outputs": [
    {
     "data": {
      "text/plain": [
       "index\n",
       "2020-06-25    0\n",
       "2020-06-26    0\n",
       "2020-06-27    0\n",
       "2020-06-28    0\n",
       "2020-06-29    0\n",
       "2020-06-30    0\n",
       "Name: F, dtype: int64"
      ]
     },
     "execution_count": 10,
     "metadata": {},
     "output_type": "execute_result"
    }
   ],
   "source": [
    "df2['F'] = 0\n",
    "df2['F']"
   ]
  },
  {
   "cell_type": "code",
   "execution_count": 11,
   "metadata": {},
   "outputs": [
    {
     "data": {
      "text/plain": [
       "index\n",
       "2020-06-25    0\n",
       "2020-06-26    1\n",
       "2020-06-27    2\n",
       "2020-06-28    3\n",
       "2020-06-29    4\n",
       "2020-06-30    5\n",
       "Name: G, dtype: int32"
      ]
     },
     "execution_count": 11,
     "metadata": {},
     "output_type": "execute_result"
    }
   ],
   "source": [
    "df2['G'] = range(0, 6)\n",
    "df2['G']"
   ]
  },
  {
   "cell_type": "code",
   "execution_count": 12,
   "metadata": {},
   "outputs": [],
   "source": [
    "# 인덱스를 변경하고 싶은 경우, 기존의 인덱스를 살리고 싶으면\n",
    "# 먼저 reset_index()하고 나서 해야함\n",
    "# reset을 안하는 경우 기존 index는 사라짐\n",
    "df2.set_index('G', inplace=True)"
   ]
  },
  {
   "cell_type": "code",
   "execution_count": 13,
   "metadata": {},
   "outputs": [
    {
     "data": {
      "text/html": [
       "<div>\n",
       "<style scoped>\n",
       "    .dataframe tbody tr th:only-of-type {\n",
       "        vertical-align: middle;\n",
       "    }\n",
       "\n",
       "    .dataframe tbody tr th {\n",
       "        vertical-align: top;\n",
       "    }\n",
       "\n",
       "    .dataframe thead th {\n",
       "        text-align: right;\n",
       "    }\n",
       "</style>\n",
       "<table border=\"1\" class=\"dataframe\">\n",
       "  <thead>\n",
       "    <tr style=\"text-align: right;\">\n",
       "      <th></th>\n",
       "      <th>A</th>\n",
       "      <th>B</th>\n",
       "      <th>C</th>\n",
       "      <th>D</th>\n",
       "      <th>E</th>\n",
       "      <th>F</th>\n",
       "    </tr>\n",
       "    <tr>\n",
       "      <th>G</th>\n",
       "      <th></th>\n",
       "      <th></th>\n",
       "      <th></th>\n",
       "      <th></th>\n",
       "      <th></th>\n",
       "      <th></th>\n",
       "    </tr>\n",
       "  </thead>\n",
       "  <tbody>\n",
       "    <tr>\n",
       "      <th>0</th>\n",
       "      <td>0.599921</td>\n",
       "      <td>-0.024623</td>\n",
       "      <td>0.745362</td>\n",
       "      <td>0.797986</td>\n",
       "      <td>1.599921</td>\n",
       "      <td>0</td>\n",
       "    </tr>\n",
       "    <tr>\n",
       "      <th>1</th>\n",
       "      <td>-0.843993</td>\n",
       "      <td>-1.394009</td>\n",
       "      <td>1.216228</td>\n",
       "      <td>-0.899932</td>\n",
       "      <td>0.156007</td>\n",
       "      <td>0</td>\n",
       "    </tr>\n",
       "    <tr>\n",
       "      <th>2</th>\n",
       "      <td>-0.306923</td>\n",
       "      <td>-0.779037</td>\n",
       "      <td>0.891013</td>\n",
       "      <td>0.457907</td>\n",
       "      <td>0.693077</td>\n",
       "      <td>0</td>\n",
       "    </tr>\n",
       "    <tr>\n",
       "      <th>3</th>\n",
       "      <td>0.345191</td>\n",
       "      <td>-0.306771</td>\n",
       "      <td>0.017366</td>\n",
       "      <td>0.883648</td>\n",
       "      <td>1.345191</td>\n",
       "      <td>0</td>\n",
       "    </tr>\n",
       "    <tr>\n",
       "      <th>4</th>\n",
       "      <td>-0.527190</td>\n",
       "      <td>0.339434</td>\n",
       "      <td>-2.388556</td>\n",
       "      <td>0.399834</td>\n",
       "      <td>0.472810</td>\n",
       "      <td>0</td>\n",
       "    </tr>\n",
       "    <tr>\n",
       "      <th>5</th>\n",
       "      <td>-0.417893</td>\n",
       "      <td>0.305258</td>\n",
       "      <td>-1.272104</td>\n",
       "      <td>0.046227</td>\n",
       "      <td>0.582107</td>\n",
       "      <td>0</td>\n",
       "    </tr>\n",
       "  </tbody>\n",
       "</table>\n",
       "</div>"
      ],
      "text/plain": [
       "          A         B         C         D         E  F\n",
       "G                                                     \n",
       "0  0.599921 -0.024623  0.745362  0.797986  1.599921  0\n",
       "1 -0.843993 -1.394009  1.216228 -0.899932  0.156007  0\n",
       "2 -0.306923 -0.779037  0.891013  0.457907  0.693077  0\n",
       "3  0.345191 -0.306771  0.017366  0.883648  1.345191  0\n",
       "4 -0.527190  0.339434 -2.388556  0.399834  0.472810  0\n",
       "5 -0.417893  0.305258 -1.272104  0.046227  0.582107  0"
      ]
     },
     "execution_count": 13,
     "metadata": {},
     "output_type": "execute_result"
    }
   ],
   "source": [
    "df2"
   ]
  },
  {
   "cell_type": "code",
   "execution_count": 14,
   "metadata": {},
   "outputs": [
    {
     "data": {
      "text/plain": [
       "Index(['A', 'B', 'C', 'D', 'E', 'F'], dtype='object')"
      ]
     },
     "execution_count": 14,
     "metadata": {},
     "output_type": "execute_result"
    }
   ],
   "source": [
    "df2.columns"
   ]
  },
  {
   "cell_type": "code",
   "execution_count": 15,
   "metadata": {},
   "outputs": [
    {
     "data": {
      "text/html": [
       "<div>\n",
       "<style scoped>\n",
       "    .dataframe tbody tr th:only-of-type {\n",
       "        vertical-align: middle;\n",
       "    }\n",
       "\n",
       "    .dataframe tbody tr th {\n",
       "        vertical-align: top;\n",
       "    }\n",
       "\n",
       "    .dataframe thead th {\n",
       "        text-align: right;\n",
       "    }\n",
       "</style>\n",
       "<table border=\"1\" class=\"dataframe\">\n",
       "  <thead>\n",
       "    <tr style=\"text-align: right;\">\n",
       "      <th></th>\n",
       "      <th>A</th>\n",
       "      <th>B</th>\n",
       "      <th>C</th>\n",
       "      <th>D</th>\n",
       "    </tr>\n",
       "  </thead>\n",
       "  <tbody>\n",
       "    <tr>\n",
       "      <th>2020-06-25</th>\n",
       "      <td>0.599921</td>\n",
       "      <td>-0.024623</td>\n",
       "      <td>0.745362</td>\n",
       "      <td>0.797986</td>\n",
       "    </tr>\n",
       "    <tr>\n",
       "      <th>2020-06-26</th>\n",
       "      <td>-0.843993</td>\n",
       "      <td>-1.394009</td>\n",
       "      <td>1.216228</td>\n",
       "      <td>-0.899932</td>\n",
       "    </tr>\n",
       "    <tr>\n",
       "      <th>2020-06-27</th>\n",
       "      <td>-0.306923</td>\n",
       "      <td>-0.779037</td>\n",
       "      <td>0.891013</td>\n",
       "      <td>0.457907</td>\n",
       "    </tr>\n",
       "    <tr>\n",
       "      <th>2020-06-28</th>\n",
       "      <td>0.345191</td>\n",
       "      <td>-0.306771</td>\n",
       "      <td>0.017366</td>\n",
       "      <td>0.883648</td>\n",
       "    </tr>\n",
       "    <tr>\n",
       "      <th>2020-06-29</th>\n",
       "      <td>-0.527190</td>\n",
       "      <td>0.339434</td>\n",
       "      <td>-2.388556</td>\n",
       "      <td>0.399834</td>\n",
       "    </tr>\n",
       "    <tr>\n",
       "      <th>2020-06-30</th>\n",
       "      <td>-0.417893</td>\n",
       "      <td>0.305258</td>\n",
       "      <td>-1.272104</td>\n",
       "      <td>0.046227</td>\n",
       "    </tr>\n",
       "  </tbody>\n",
       "</table>\n",
       "</div>"
      ],
      "text/plain": [
       "                   A         B         C         D\n",
       "2020-06-25  0.599921 -0.024623  0.745362  0.797986\n",
       "2020-06-26 -0.843993 -1.394009  1.216228 -0.899932\n",
       "2020-06-27 -0.306923 -0.779037  0.891013  0.457907\n",
       "2020-06-28  0.345191 -0.306771  0.017366  0.883648\n",
       "2020-06-29 -0.527190  0.339434 -2.388556  0.399834\n",
       "2020-06-30 -0.417893  0.305258 -1.272104  0.046227"
      ]
     },
     "execution_count": 15,
     "metadata": {},
     "output_type": "execute_result"
    }
   ],
   "source": [
    "df3 = df.copy()\n",
    "df3"
   ]
  },
  {
   "cell_type": "code",
   "execution_count": 16,
   "metadata": {},
   "outputs": [],
   "source": [
    "# E항목을 파생변수로 만드세요. 1~10 범위 값\n",
    "# F항목을 파생변수로 만드세요. A열과 C열의 합\n",
    "# H항목을 파생변수로 만드세요. 1로 설정\n",
    "# Z항목을 파생변수로 만드세요. 1~9까지 랜덤한 값으로 설정"
   ]
  },
  {
   "cell_type": "code",
   "execution_count": 17,
   "metadata": {},
   "outputs": [
    {
     "data": {
      "text/plain": [
       "2020-06-25    1\n",
       "2020-06-26    3\n",
       "2020-06-27    5\n",
       "2020-06-28    7\n",
       "2020-06-29    9\n",
       "2020-06-30    4\n",
       "Freq: D, Name: E, dtype: int64"
      ]
     },
     "execution_count": 17,
     "metadata": {},
     "output_type": "execute_result"
    }
   ],
   "source": [
    "df3['E'] = [1, 3, 5, 7, 9, 4]\n",
    "df3['E']"
   ]
  },
  {
   "cell_type": "code",
   "execution_count": 18,
   "metadata": {},
   "outputs": [
    {
     "data": {
      "text/plain": [
       "2020-06-25    1.345283\n",
       "2020-06-26    0.372235\n",
       "2020-06-27    0.584090\n",
       "2020-06-28    0.362557\n",
       "2020-06-29   -2.915746\n",
       "2020-06-30   -1.689997\n",
       "Freq: D, Name: F, dtype: float64"
      ]
     },
     "execution_count": 18,
     "metadata": {},
     "output_type": "execute_result"
    }
   ],
   "source": [
    "df3['F'] = df3['A'] + df3['C']\n",
    "df3['F']"
   ]
  },
  {
   "cell_type": "code",
   "execution_count": 19,
   "metadata": {},
   "outputs": [
    {
     "data": {
      "text/plain": [
       "2020-06-25    1\n",
       "2020-06-26    1\n",
       "2020-06-27    1\n",
       "2020-06-28    1\n",
       "2020-06-29    1\n",
       "2020-06-30    1\n",
       "Freq: D, Name: H, dtype: int64"
      ]
     },
     "execution_count": 19,
     "metadata": {},
     "output_type": "execute_result"
    }
   ],
   "source": [
    "df3['H'] = 1\n",
    "df3['H']"
   ]
  },
  {
   "cell_type": "code",
   "execution_count": 20,
   "metadata": {},
   "outputs": [],
   "source": [
    "import random"
   ]
  },
  {
   "cell_type": "code",
   "execution_count": 21,
   "metadata": {},
   "outputs": [
    {
     "data": {
      "text/plain": [
       "2020-06-25     2\n",
       "2020-06-26     4\n",
       "2020-06-27     1\n",
       "2020-06-28    10\n",
       "2020-06-29     2\n",
       "2020-06-30    10\n",
       "Freq: D, Name: Z, dtype: int64"
      ]
     },
     "execution_count": 21,
     "metadata": {},
     "output_type": "execute_result"
    }
   ],
   "source": [
    "df3['Z'] = [random.randint(1, 10) for _ in range(6)]\n",
    "df3['Z']"
   ]
  },
  {
   "cell_type": "code",
   "execution_count": 22,
   "metadata": {},
   "outputs": [
    {
     "data": {
      "text/html": [
       "<div>\n",
       "<style scoped>\n",
       "    .dataframe tbody tr th:only-of-type {\n",
       "        vertical-align: middle;\n",
       "    }\n",
       "\n",
       "    .dataframe tbody tr th {\n",
       "        vertical-align: top;\n",
       "    }\n",
       "\n",
       "    .dataframe thead th {\n",
       "        text-align: right;\n",
       "    }\n",
       "</style>\n",
       "<table border=\"1\" class=\"dataframe\">\n",
       "  <thead>\n",
       "    <tr style=\"text-align: right;\">\n",
       "      <th></th>\n",
       "      <th>A</th>\n",
       "      <th>B</th>\n",
       "      <th>C</th>\n",
       "      <th>D</th>\n",
       "      <th>E</th>\n",
       "      <th>F</th>\n",
       "      <th>H</th>\n",
       "      <th>Z</th>\n",
       "    </tr>\n",
       "  </thead>\n",
       "  <tbody>\n",
       "    <tr>\n",
       "      <th>2020-06-25</th>\n",
       "      <td>0.599921</td>\n",
       "      <td>-0.024623</td>\n",
       "      <td>0.745362</td>\n",
       "      <td>0.797986</td>\n",
       "      <td>1</td>\n",
       "      <td>1.345283</td>\n",
       "      <td>1</td>\n",
       "      <td>2</td>\n",
       "    </tr>\n",
       "    <tr>\n",
       "      <th>2020-06-26</th>\n",
       "      <td>-0.843993</td>\n",
       "      <td>-1.394009</td>\n",
       "      <td>1.216228</td>\n",
       "      <td>-0.899932</td>\n",
       "      <td>3</td>\n",
       "      <td>0.372235</td>\n",
       "      <td>1</td>\n",
       "      <td>4</td>\n",
       "    </tr>\n",
       "    <tr>\n",
       "      <th>2020-06-27</th>\n",
       "      <td>-0.306923</td>\n",
       "      <td>-0.779037</td>\n",
       "      <td>0.891013</td>\n",
       "      <td>0.457907</td>\n",
       "      <td>5</td>\n",
       "      <td>0.584090</td>\n",
       "      <td>1</td>\n",
       "      <td>1</td>\n",
       "    </tr>\n",
       "    <tr>\n",
       "      <th>2020-06-28</th>\n",
       "      <td>0.345191</td>\n",
       "      <td>-0.306771</td>\n",
       "      <td>0.017366</td>\n",
       "      <td>0.883648</td>\n",
       "      <td>7</td>\n",
       "      <td>0.362557</td>\n",
       "      <td>1</td>\n",
       "      <td>10</td>\n",
       "    </tr>\n",
       "    <tr>\n",
       "      <th>2020-06-29</th>\n",
       "      <td>-0.527190</td>\n",
       "      <td>0.339434</td>\n",
       "      <td>-2.388556</td>\n",
       "      <td>0.399834</td>\n",
       "      <td>9</td>\n",
       "      <td>-2.915746</td>\n",
       "      <td>1</td>\n",
       "      <td>2</td>\n",
       "    </tr>\n",
       "    <tr>\n",
       "      <th>2020-06-30</th>\n",
       "      <td>-0.417893</td>\n",
       "      <td>0.305258</td>\n",
       "      <td>-1.272104</td>\n",
       "      <td>0.046227</td>\n",
       "      <td>4</td>\n",
       "      <td>-1.689997</td>\n",
       "      <td>1</td>\n",
       "      <td>10</td>\n",
       "    </tr>\n",
       "  </tbody>\n",
       "</table>\n",
       "</div>"
      ],
      "text/plain": [
       "                   A         B         C         D  E         F  H   Z\n",
       "2020-06-25  0.599921 -0.024623  0.745362  0.797986  1  1.345283  1   2\n",
       "2020-06-26 -0.843993 -1.394009  1.216228 -0.899932  3  0.372235  1   4\n",
       "2020-06-27 -0.306923 -0.779037  0.891013  0.457907  5  0.584090  1   1\n",
       "2020-06-28  0.345191 -0.306771  0.017366  0.883648  7  0.362557  1  10\n",
       "2020-06-29 -0.527190  0.339434 -2.388556  0.399834  9 -2.915746  1   2\n",
       "2020-06-30 -0.417893  0.305258 -1.272104  0.046227  4 -1.689997  1  10"
      ]
     },
     "execution_count": 22,
     "metadata": {},
     "output_type": "execute_result"
    }
   ],
   "source": [
    "df3"
   ]
  }
 ],
 "metadata": {
  "kernelspec": {
   "display_name": "Python 3",
   "language": "python",
   "name": "python3"
  },
  "language_info": {
   "codemirror_mode": {
    "name": "ipython",
    "version": 3
   },
   "file_extension": ".py",
   "mimetype": "text/x-python",
   "name": "python",
   "nbconvert_exporter": "python",
   "pygments_lexer": "ipython3",
   "version": "3.7.0"
  }
 },
 "nbformat": 4,
 "nbformat_minor": 2
}
